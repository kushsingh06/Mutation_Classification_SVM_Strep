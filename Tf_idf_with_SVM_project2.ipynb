{
  "nbformat": 4,
  "nbformat_minor": 0,
  "metadata": {
    "kernelspec": {
      "display_name": "Python 3",
      "language": "python",
      "name": "python3"
    },
    "language_info": {
      "codemirror_mode": {
        "name": "ipython",
        "version": 3
      },
      "file_extension": ".py",
      "mimetype": "text/x-python",
      "name": "python",
      "nbconvert_exporter": "python",
      "pygments_lexer": "ipython3",
      "version": "3.7.6"
    },
    "colab": {
      "name": "Tf-idf with SVM project2.ipynb",
      "provenance": []
    }
  },
  "cells": [
    {
      "cell_type": "code",
      "metadata": {
        "id": "03mu5gcPZjZj"
      },
      "source": [
        "#tf-idf has same result, try something else"
      ],
      "execution_count": null,
      "outputs": []
    },
    {
      "cell_type": "code",
      "metadata": {
        "id": "mU4OdpjUZjZj"
      },
      "source": [
        "import nltk\n",
        "#nltk.download('punkt')"
      ],
      "execution_count": null,
      "outputs": []
    },
    {
      "cell_type": "code",
      "metadata": {
        "id": "nU-tgEcZZjZk"
      },
      "source": [
        "para = \"embB, katG, rpoB, rpsL embB, gyrA, inhA-Pro, katG, pncA, rpoB, rpsL, rrs embB, inhA-Pro, katG, pncA, rpoB rpsL embB, katG, rpoB katG, rpoB, rpsL embB, gyrA, inhA-Pro, katG, rpoB, rpsL, rrs embB, gyrA, katG, rpoB, rpsL, rrs embB, inhA-Pro, katG, pncA, rpoB embB, gyrA, katG, rpoB embB, gyrA, inhA-Pro, katG, pncA, rpoB katG, rpoB embB, gyrA, inhA-Pro, katG, pncA, rpoB, rpsL embB, inhA-Pro, katG, rpoB, rpsL gyrA, inhA-Pro, katG, rpoB, rpsL, rrs gyrA, inhA-Pro, katG, rpoB, rpsL, rrs embB, inhA-Pro, katG, pncA, rpoB katG, rpoB, rpsL embB, inhA-Pro, katG, rpoB, rpsL, rrs embB, katG, rpoB embB, katG, rpoB embB, inhA-Pro, katG, rpoB embB, katG, rpoB, rpsL, rrs embB, katG, rpoB embB, katG, rpoB embB, inhA-Pro, katG, rpoB embB, gyrA, inhA-Pro, katG, rpoB, rpsL, rrs embB, gyrA, inhA-Pro, katG, rpoB, rpsL, rrs embB, inhA-Pro, katG, pncA, rpoB, rpsL embB, inhA-Pro, katG, pncA, rpoB, rpsL embB, inhA-Pro, katG, pncA, rpoB embB, inhA-Pro, katG, pncA, rpoB embB, inhA-Pro, katG, pncA, rpoB, rpsL embB, inhA-Pro, katG, pncA, rpoB embB, katG, rpoB embB, katG, rpoB gyrA, katG, pncA, rpoB, rpsL embB, gyrA, inhA-Pro, katG, rpoB, rrs embB, inhA-Pro, katG, pncA, rpoB, rpsL embB, inhA-Pro, katG, rpoB, rpsL, rrs embB, inhA-Pro, katG, rpoB, rpsL, rrs embB, gyrA, inhA-Pro, katG, pncA, rpoB embB, gyrA, katG, rpoB, rpsL, rrs embB, gyrA, katG, rpoB, rpsL, rrs embB, gyrA, inhA-Pro, katG, rpoB, rrs inhA-Pro, rpoB, rpsL embB, inhA-Pro, katG, pncA, rpoB katG, rpoB, rpsL embB, inhA-Pro, katG, pncA, rpoB, rpsL embB, katG, rpoB, rpsL embB, gyrA, katG, rpoB, rpsL, rrs embB, gyrA, katG, rpoB, rpsL gyrA, katG, pncA, rpoB, rpsL, rrs embB, gyrA, inhA-Pro, katG, rpoB, rpsL, rrs embB, katG, rpoB, rpsL embB, katG, rpoB, rpsL embB, inhA-Pro, katG, rpoB embB, katG, rpoB, rpsL embB, katG, rpoB, rpsL embB, gyrA, inhA-Pro, katG, rpoB, rpsL, rrs embB, katG, rpoB, rrs embB, katG, rpoB, rpsL katG, rpoB embB, katG, pncA, rpoB, rpsL embB, gyrA, katG, rpoB, rpsL embB, gyrA, inhA-Pro, katG, rpoB, rpsL, rrs embB, katG, pncA, rpoB, rpsL embB, inhA-Pro, katG, rpoB, rpsL gyrA, katG, pncA, rpoB, rpsL inhA-Pro, rpoB embB, gyrA, inhA-Pro, katG, rpoB, rpsL embB, katG, rpoB, rpsL embB, katG, rpoB, rpsL inhA-Pro, katG, rpoB, rpsL embB, inhA-Pro, katG, rpoB, rpsL gyrA, katG, rpoB, rpsL embB, gyrA, inhA-Pro, katG, rpoB, rpsL, rrs katG, rpoB, rpsL embB, gyrA, inhA-Pro, katG, rpoB, rpsL embB, katG embB, katG, rpsL embB, gyrA, inhA-Pro, katG, rpoB, rpsL, rrs embB, gyrA, inhA-Pro, katG, rpoB, rpsL, rrs embB, gyrA, inhA-Pro, katG, rpoB, rpsL katG, pncA, rpoB, rpsL embB, katG, rpoB, rpsL katG, rpoB, rrs embB, katG, pncA, rpoB, rpsL embB, inhA-Pro, katG, rpoB embB, gyrA, inhA-Pro, katG, rpoB, rpsL, rrs gyrA, katG, pncA, rpoB, rpsL, rrs embB, katG, rpoB embB, inhA-Pro, katG, rpoB, rpsL embB, inhA-Pro, katG, rpoB, rpsL embB, gyrA, katG, pncA, rpoB, rpsL inhA-Pro, katG, rpoB, rpsL inhA, inhA-Pro, rpoB embB, gyrA, katG, pncA, rpoB, rpsL embB, inhA-Pro, katG, rpoB, rpsL embB, gyrA, katG, rpoB, rpsL, rrs embB, gyrA, katG, rpoB, rpsL embB, gyrA, katG, rpoB, rpsL embB, katG, rpoB, rpsL embB, gyrA, katG, rpoB, rpsL, rrs embB, gyrA, katG, rpoB, rpsL embB, gyrA, inhA-Pro, katG, rpoB, rpsL, rrs embB, katG, rpoB, rpsL embB, gyrA, inhA-Pro, katG, rpoB, rrs gyrA, inhA-Pro, katG, rpoB, rpsL embB, gyrA, katG, rpoB, rpsL, rrs embB, katG, rpoB, rpsL embB, gyrA, katG, rpoB, rpsL, rrs katG, rpoB, rpsL embB, inhA-Pro, katG, pncA, rpoB, rpsL, rrs embB, gyrA, inhA-Pro, katG, rpoB embB, gyrA, katG, rpoB embB, gyrA, katG, rpoB, rpsL, rrs embB, gyrA, inhA-Pro, katG, pncA, rpoB, rpsL, rrs embB, gyrA, inhA-Pro, katG, pncA, rpoB, rrs embB, katG, rpoB, rpsL gyrA, inhA-Pro, katG, rpoB, rpsL embB, katG, pncA, rpoB, rpsL gyrA, inhA-Pro, katG, rpoB, rpsL, rrs katG, rpoB embB, inhA-Pro, katG, pncA, rpoB embB, gyrA, katG, rpoB, rpsL katG, rpoB, rpsL, rrs embB, katG, rpoB, rpsL embB, gyrA, katG, rpoB, rpsL embB, gyrA, katG, pncA, rpoB, rpsL, rrs embB, gyrA, inhA-Pro, katG, pncA, rpoB, rpsL, rrs embB, gyrA, inhA-Pro, katG, pncA, rpoB, rpsL embB, gyrA, inhA-Pro, katG, pncA, rpoB, rpsL embB, katG, rpoB, rpsL, rrs embB, gyrA, inhA-Pro, katG, pncA, rpoB, rpsL, rrs gyrA, katG, rpoB, rpsL gyrA, inhA-Pro, katG, pncA, rpoB, rpsL embB, gyrA, inhA-Pro, katG, rpoB, rpsL embB, gyrA, inhA-Pro, katG, pncA, rpoB, rrs gyrA, katG, rpoB, rpsL, rrs gyrA, inhA-Pro, katG, pncA, rpoB, rpsL gyrA, inhA-Pro, katG, rpoB, rpsL embB, gyrA, inhA-Pro, katG, rpoB, rpsL inhA-Pro, katG, pncA, rpoB, rrs gyrA, inhA-Pro, katG, rpoB, rpsL gyrA, inhA-Pro, katG, rpoB, rpsL gyrA, inhA-Pro, katG, rpoB gyrA, inhA-Pro, katG, rpoB, rpsL embB, inhA-Pro, katG, rpoB, rpsL embB, gyrA, inhA-Pro, katG, pncA, rpoB, rpsL, rrs gyrA, katG, rpoB, rpsL, rrs katG, rpoB gyrA, katG, rpoB rpoB gyrA, katG, rpoB, rpsL, rrs inhA-Pro, katG, rpoB, rpsL embB, rpoB, rpsL embB, katG, pncA, rpoB, rpsL, rrs gyrA, inhA-Pro, katG, rpoB, rpsL, rrs embB, inhA, inhA-Pro, rpoB rpoB embB, gyrA, katG, rpoB, rrs embB, gyrA, katG, rpoB, rpsL gyrA, inhA-Pro, katG, rpoB, rpsL gyrA, inhA-Pro, katG, rpoB, rpsL, rrs gyrA, inhA-Pro, katG, rpoB, rpsL, rrs gyrA, inhA-Pro, katG, rpoB, rpsL, rrs gyrA, inhA-Pro, katG, rpoB, rpsL, rrs inhA-Pro, katG, pncA, rpoB, rpsL inhA-Pro embB, gyrA, inhA-Pro, katG, pncA, rpoB, rpsL, rrs inhA-Pro, katG, rpoB, rpsL embB, inhA-Pro, katG, rpoB, rpsL embB, katG, rpoB, rpsL inhA-Pro, katG, rpoB, rpsL katG, rpoB, rpsL katG, rpoB, rpsL embB, gyrA, katG, pncA, rpoB, rpsL embB, gyrA, inhA-Pro, katG, pncA, rpoB, rpsL, rrs inhA-Pro, katG, rpoB, rpsL inhA-Pro, katG, rpoB, rpsL embB, katG, rpoB, rpsL embB, katG, rpoB, rpsL embB, katG, rpoB, rpsL embB, katG, rpoB embB, katG, rpoB, rpsL embB, gyrA, inhA-Pro, katG, pncA, rpoB, rpsL, rrs inhA-Pro, katG, rpoB, rpsL gyrA, inhA-Pro, katG, rpoB, rpsL inhA-Pro, katG, rpoB, rpsL embB, katG, rpoB gyrA, inhA-Pro, katG, rpoB, rpsL katG, rpoB embB, katG, rpoB, rpsL inhA-Pro, katG, rpoB, rpsL embB, katG, rpoB, rpsL inhA-Pro, katG, rpoB, rpsL inhA-Pro, katG, rpoB, rpsL inhA-Pro, katG, rpoB, rpsL inhA-Pro, katG, rpoB, rpsL inhA-Pro, katG, rpoB, rpsL inhA-Pro, katG, rpoB, rpsL inhA-Pro, katG, rpoB, rpsL embB, gyrA, katG, pncA, rpoB embB, katG, rpoB katG, rpoB, rpsL inhA-Pro, katG, rpoB, rpsL embB, katG, pncA, rpoB, rpsL inhA-Pro, katG, rpoB, rpsL embB, inhA-Pro, katG, rpoB, rpsL embB, katG, rpoB, rpsL embB, gyrA, inhA-Pro, katG, rpoB, rpsL, rrs inhA-Pro, katG, rpoB, rpsL rpoB embB, katG, rpoB, rpsL embB, katG, rpoB, rpsL embB, katG, rpoB, rpsL inhA-Pro, katG, rpoB, rpsL katG, rpoB, rpsL embB, gyrA, katG, pncA, rpsL gyrA, inhA-Pro, katG, rpoB, rpsL embB, gyrA, katG, rpoB, rpsL katG, rpoB, rpsL inhA-Pro, katG, rpoB, rpsL gyrA, inhA-Pro, katG, pncA, rpoB, rpsL embB, inhA-Pro, katG, pncA, rpoB, rrs embB, gyrA, katG, rpoB, rpsL embB, gyrA, inhA-Pro, katG, rpoB, rpsL gyrA, inhA-Pro, katG, rpoB, rpsL gyrA, inhA-Pro, katG, rpoB, rpsL gyrA, inhA-Pro, katG, rpoB, rpsL embB, gyrA, pncA, rpoB, rpsL embB, gyrA, inhA-Pro, katG, rpoB, rpsL embB, gyrA, katG, rpoB embB, katG, rpoB, rpsL embB, gyrA, katG, pncA, rpoB, rpsL gyrA, inhA-Pro, katG, rpoB, rpsL embB, gyrA, katG, pncA, rpoB, rpsL embB, gyrA, inhA-Pro, katG, rpoB, rpsL, rrs katG, rpoB, rpsL gyrA, inhA-Pro, katG, rpoB, rpsL gyrA, katG, rpoB, rpsL embB, gyrA, inhA-Pro, katG, pncA, rpoB, rrs embB, gyrA, katG, rpoB, rpsL embB, gyrA, inhA-Pro, katG, rpoB, rrs embB, katG, rpsL embB, gyrA, katG, rpoB, rrs embB, gyrA, katG, rpoB, rpsL gyrA, inhA-Pro, katG, rpoB, rrs embB, gyrA, katG, rpoB, rpsL embB, katG, rpoB katG, rpsL embB, inhA-Pro, katG, rpoB katG, rpoB, rrs inhA-Pro, rpoB inhA, inhA-Pro, rpoB inhA, inhA-Pro, rpoB katG embB, gyrA, inhA-Pro, katG, rpoB katG, rpoB, rpsL embB, gyrA, katG, rpoB, rpsL, rrs embB, gyrA, katG, pncA, rpoB, rpsL, rrs embB, gyrA, inhA-Pro, katG, pncA, rpoB, rpsL gyrA, inhA-Pro, katG, rpoB, rpsL, rrs embB, gyrA, katG, rpoB, rpsL, rrs katG, rpoB embB, gyrA, katG, pncA, rpoB, rpsL, rrs katG, rpoB katG, rpoB, rpsL rpsL rpsL gyrA, inhA-Pro, katG, rpoB, rpsL, rrs embB, katG, rpoB gyrA, inhA-Pro, katG, rpoB, rpsL, rrs gyrA, katG, rpoB, rpsL, rrs embB, katG, rpoB, rpsL, rrs embB, katG, rpoB, rpsL embB, inhA-Pro, katG, rpoB embB, katG, rpoB, rpsL, rrs embB, katG, rpoB, rpsL rpoB embB, gyrA, inhA-Pro, katG, rpoB katG, rpoB, rpsL embB, gyrA, katG, rpoB, rrs katG, rpoB embB, inhA-Pro, katG, rpoB embB, katG, rpoB, rpsL embB, katG, rpoB, rpsL embB, inhA-Pro, katG, pncA, rpoB embB, gyrA, katG, rpoB, rpsL gyrA, katG, rpoB embB, gyrA, katG, rpoB, rpsL embB, katG, rpsL gyrA, katG, rpoB gyrA, katG, rpoB embB, gyrA, katG, rpsL embB, katG, rpoB, rpsL rrs embB, katG, rpoB, rpsL, rrs embB, katG, rpoB, rpsL embB, inhA-Pro, katG, rpoB, rpsL, rrs embB, gyrA, katG, rpoB, rrs embB, katG, rpoB gyrA, katG, pncA, rpoB, rpsL embB, katG, pncA, rpoB embB, katG, rpoB, rpsL, rrs embB, gyrA, katG, rpoB, rpsL embB, gyrA, katG, rpoB, rpsL embB, gyrA, inhA-Pro, katG, rpoB, rrs embB, gyrA, katG, pncA, rpoB, rpsL, rrs gyrA, katG, rpoB, rrs embB, gyrA, inhA-Pro, katG, rpoB, rpsL embB, gyrA, katG, rpoB, rpsL, rrs embB, gyrA, katG, rpoB, rrs embB, gyrA, katG, rpoB, rpsL, rrs rpoB embB, katG, rpoB, rpsL, rrs embB, gyrA, katG, rpoB, rpsL, rrs embB, gyrA, inhA-Pro, katG, rpoB, rpsL embB, gyrA, katG, rpoB gyrA, inhA-Pro, katG, rpoB, rpsL, rrs inhA-Pro, katG, rpoB embB, gyrA, katG, rpoB gyrA, katG, rpoB embB, gyrA, katG, rpoB, rpsL, rrs embB, gyrA, katG, rpoB, rrs embB, gyrA, inhA-Pro, katG, pncA, rpoB katG, rpoB embB, gyrA, inhA-Pro, katG, pncA, rpoB embB, katG, rpoB, rpsL, rrs embB, gyrA, katG, rpsL embB, gyrA, inhA-Pro, katG, rpoB, rpsL, rrs embB, inhA-Pro, katG, rpsL, rrs gyrA, katG, rpoB, rpsL, rrs gyrA, inhA-Pro, katG, rpoB, rpsL gyrA, katG, rpoB embB, katG, rpoB, rpsL embB, rrs embB, katG, rpoB, rpsL gyrA, inhA-Pro, rpoB, rpsL embB, katG, rpoB embB, gyrA, katG, rpoB, rpsL katG, rpoB, rpsL embB, gyrA, inhA, katG, rpoB, rpsL, rrs gyrA, katG, rpoB embB, gyrA, katG, rpoB, rpsL, rrs embB, katG, rpoB embB, inhA-Pro, katG, rpoB embB, gyrA, katG, rpoB katG, rpoB embB, gyrA, katG, rpoB, rpsL katG, rpoB, rpsL embB, inhA-Pro, katG, rpoB katG, rpoB, rrs katG, rpoB, rpsL inhA-Pro, katG, rpoB, rpsL inhA-Pro, katG, rpoB, rpsL embB, katG, rpoB, rpsL inhA-Pro, katG, rpoB, rpsL embB, gyrA, katG, rpoB, rpsL katG, rpoB, rpsL gyrA, inhA-Pro, katG, rpoB embB, gyrA, katG, rpoB rpoB, rrs embB, gyrA, katG, pncA embB, gyrA, katG, rpoB, rpsL embB, gyrA, inhA-Pro, katG, rpoB, rpsL, rrs embB, inhA-Pro, katG, rpoB, rpsL, rrs embB, katG, rpsL katG, rpoB katG, rpoB, rpsL embB, katG, rpoB, rrs embB, gyrA, katG, rpoB, rpsL, rrs inhA-Pro, katG, rpoB, rpsL, rrs embB, gyrA, katG, rpoB embB, gyrA, katG, rpoB embB, katG, rpoB embB, gyrA, katG, rpoB embB, katG, rpoB, rpsL embB, gyrA, inhA-Pro, katG, rpoB, rpsL gyrA, inhA-Pro, katG, rpoB, rpsL embB, katG, rpoB, rpsL embB, katG, rpoB, rpsL embB, katG, rpoB, rpsL embB, katG, rpoB, rpsL embB, katG, rpoB, rpsL inhA-Pro, rpoB embB, katG, rpoB, rpsL, rrs embB, inhA-Pro, katG, rpoB, rpsL embB, katG, rpoB, rpsL embB, katG, rpoB, rpsL embB, katG, rpoB, rpsL embB, katG, rpoB, rpsL, rrs embB, katG, rpoB, rpsL embB, gyrA, katG, rpoB, rpsL katG, rpoB gyrA, inhA-Pro, katG, rpoB, rpsL, rrs rpoB katG, rpoB embB, katG, rpoB, rpsL gyrA, katG, rpoB, rpsL gyrA, inhA-Pro, katG, rpoB, rpsL embB, inhA-Pro, katG, rpoB, rpsL katG, rpoB, rpsL embB, katG, pncA, rpoB, rpsL katG, rpoB embB, gyrA, katG, rpoB inhA-Pro, katG, rpoB, rpsL embB, gyrA, inhA-Pro, katG, rpoB, rpsL embB, katG, rpoB, rpsL embB, katG, pncA, rpoB, rpsL katG, rpoB, rpsL embB, gyrA, katG, rpoB katG, rpoB, rrs embB, katG, pncA, rpoB, rpsL, rrs embB, katG, rpoB, rpsL katG, rpoB, rpsL embB, inhA-Pro, rpoB, rpsL, rrs rpoB katG, rpoB, rpsL embB, rpsL gyrA, katG, rpoB, rpsL inhA-Pro, katG, rrs gyrA, katG, rpoB, rpsL embB, gyrA, inhA-Pro, katG, rpoB, rrs katG, rpoB, rpsL katG embB, rpoB, rpsL embB, inhA-Pro, katG, rpoB, rpsL, rrs gyrA, katG, pncA, rpoB, rpsL embB, gyrA, katG, rpoB, rpsL, rrs embB, gyrA, katG, rpoB, rpsL, rrs embB, gyrA, katG, rpoB, rpsL, rrs rrs embB, katG embB, gyrA, katG, rpoB inhA-Pro, katG, rpoB gyrA, inhA-Pro, katG, rpoB, rpsL embB, katG, rpoB embB, gyrA, katG, rpoB embB, gyrA, katG, rpoB, rpsL, rrs embB, katG, rpoB embB, katG, rpoB, rpsL embB, gyrA, katG, rpoB, rpsL katG, rpoB inhA-Pro, rpoB rpoB embB, katG, rpoB embB, inhA-Pro, rpoB, rrs gyrA, inhA-Pro, katG, rpoB, rpsL, rrs gyrA, inhA-Pro, katG, rpoB, rpsL, rrs embB, gyrA, katG, rpoB, rpsL gyrA, katG, rpoB gyrA, katG, rpoB, rpsL embB, katG, rpoB, rpsL katG, rpoB, rpsL embB, gyrA, katG, pncA, rpoB, rpsL embB, gyrA, inhA-Pro, katG, rpoB, rpsL katG, rpoB, rpsL embB, gyrA, katG, rpoB, rpsL, rrs embB, gyrA, katG, rpoB, rpsL, rrs embB, gyrA, rpoB embB, gyrA, katG, rpoB embB, gyrA, inhA-Pro, katG, rpoB, rpsL, rrs embB, gyrA, katG, pncA, rpoB, rpsL gyrA, inhA-Pro, katG, pncA, rpoB, rpsL embB, gyrA, inhA-Pro, katG, rpoB, rpsL inhA-Pro, katG, rpoB, rpsL embB, gyrA, katG, rpoB, rpsL, rrs katG, rpoB katG, rpoB, rpsL embB, katG, rpoB, rpsL katG, rpoB, rpsL embB, katG, rpoB, rpsL embB, katG, rpoB, rpsL embB, gyrA, katG, rpoB, rpsL, rrs gyrA, katG, rpoB, rpsL inhA-Pro, katG, rpoB, rpsL katG, rpoB, rpsL katG, rpoB, rpsL embB, gyrA, katG, rpoB, rpsL embB, gyrA, inhA-Pro, katG, rpoB, rpsL embB, katG, rpoB, rpsL katG, rpoB, rrs embB, gyrA, katG, rpoB, rpsL embB, katG, rpoB, rpsL katG, rpoB, rpsL embB, katG, rpoB, rpsL embB, gyrA, katG, pncA, rpoB, rrs embB, gyrA, katG, rpoB katG, rpoB, rpsL, rrs katG, rpoB, rpsL embB, gyrA, katG, rpoB embB, gyrA, katG embB, gyrA, katG, rpoB, rpsL, rrs embB, inhA-Pro, katG, rpoB embB, inhA-Pro, katG, rpoB, rpsL, rrs embB, gyrA, katG, rpoB, rpsL gyrA, inhA-Pro, katG, rpoB, rpsL inhA-Pro, katG, rpoB, rpsL gyrA, katG, rpoB, rpsL, rrs embB, katG, rpoB rpoB embB, inhA-Pro, katG, rpoB, rpsL, rrs embB, gyrA, inhA-Pro, katG, rpoB, rpsL, rrs inhA-Pro, rpoB embB, katG, rpoB, rpsL gyrA, katG, rpoB, rpsL, rrs embB, gyrA, katG, rpoB, rpsL, rrs embB, katG, rpoB, rpsL embB, gyrA, katG embB, gyrA, inhA-Pro, katG, pncA, rpoB rpsL rpsL embB, inhA-Pro, katG, rpoB, rrs gyrA inhA-Pro, katG, pncA, rpoB, rpsL, rrs gyrA, inhA-Pro, katG, rpoB, rpsL gyrA, inhA-Pro, katG, rpoB, rpsL embB, katG, rpoB embB, gyrA, inhA-Pro, katG, pncA, rpoB embB, katG, rpsL embB, katG, rpoB, rpsL, rrs embB, katG, rpoB gyrA, inhA-Pro, katG, rpoB, rpsL gyrA, inhA-Pro, katG, rpoB, rpsL gyrA, inhA-Pro, katG, rpoB, rpsL embB, gyrA, katG, rpoB gyrA, inhA-Pro, katG, rpoB, rpsL gyrA, katG, rpoB, rpsL embB, gyrA, inhA-Pro, katG, rpoB, rpsL gyrA, katG, rpoB, rpsL embB, gyrA, katG, rpoB, rpsL, rrs katG, rpoB, rpsL gyrA, katG, rpoB, rpsL katG, rpoB gyrA, rpoB katG, rpoB, rpsL embB, katG, rpoB, rpsL, rrs embB, gyrA, inhA-Pro, katG, pncA, rpoB embB, inhA-Pro, katG, pncA, rpoB embB, gyrA, inhA-Pro, katG, rpoB, rrs embB, gyrA, katG, rpoB, rrs embB, gyrA, inhA-Pro, katG, pncA, rpoB embB, katG, rpoB, rpsL gyrA, inhA-Pro, katG, rpoB, rpsL, rrs embB, katG, rpoB, rpsL katG, rpoB, rpsL inhA-Pro, katG, rpoB, rpsL embB, gyrA, katG, rpoB, rpsL embB, katG, pncA, rpoB, rpsL embB, katG, rpoB, rrs embB, inhA-Pro, katG, rpoB, rpsL inhA-Pro, katG, rpoB, rpsL inhA-Pro, katG, rpoB, rpsL katG, rpoB, rpsL, rrs inhA-Pro, katG, rpoB, rrs embB, gyrA, katG, rpoB, rpsL katG katG, rpoB, rpsL embB, inhA-Pro, katG, rpoB, rpsL, rrs embB, katG, rpoB, rpsL embB, katG, rpoB embB, katG, rpoB embB, gyrA, katG, rpoB inhA, inhA-Pro, rpoB embB, katG, rpoB embB, inhA-Pro, katG, rpoB, rpsL embB, gyrA, katG, rpoB embB, gyrA, inhA-Pro, katG, rpoB gyrA, katG, rpoB, rpsL, rrs katG, rpsL inhA-Pro, katG katG embB, gyrA, inhA-Pro, katG, rpoB, rpsL inhA-Pro, katG, rpoB, rpsL katG, rpoB, rpsL embB, gyrA, inhA-Pro, rpoB, rpsL, rrs embB, gyrA, katG, rpoB, rpsL, rrs gyrA, inhA-Pro, katG, rpoB, rpsL, rrs katG, pncA, rpoB, rpsL, rrs embB, gyrA, katG, rpoB, rpsL embB, katG, rpoB, rpsL, rrs embB, gyrA, katG, rpoB embB, gyrA, katG, rpoB, rpsL embB, katG, rpoB, rpsL, rrs embB, katG, rpoB, rpsL katG, rpoB, rpsL embB, katG, rpoB, rpsL embB, katG, rpoB, rpsL embB, katG, rpoB, rpsL embB, gyrA, katG, rpoB embB, gyrA, inhA-Pro, katG, pncA, rpoB, rpsL embB, katG, rpoB embB, inhA-Pro, katG, pncA, rpoB embB, gyrA, katG, rpoB, rpsL, rrs gyrA, inhA-Pro, katG, rpoB, rpsL embB, gyrA, katG, rpoB, rpsL, rrs katG, rpoB, rpsL katG, rpoB, rpsL gyrA, katG, rpoB, rpsL, rrs embB, inhA-Pro, katG, pncA, rpoB embB, katG, rpoB rpoB embB, katG, rpoB, rpsL, rrs gyrA, katG, rpoB, rrs embB, gyrA, katG, pncA, rpoB embB, gyrA, katG, pncA, rpoB embB, inhA-Pro, katG, rpoB, rpsL, rrs embB, inhA-Pro, katG, rpoB, rpsL, rrs embB, inhA-Pro, katG, rpoB, rpsL, rrs embB, gyrA, inhA-Pro, katG, rpoB, rpsL, rrs embB, gyrA, inhA-Pro, katG, pncA, rpoB, rpsL embB, katG, pncA, rpoB, rpsL embB, katG, rpoB, rpsL embB, gyrA, katG, rpoB, rpsL embB, gyrA, inhA-Pro, katG, pncA, rpoB, rpsL embB, gyrA, inhA-Pro, katG, pncA, rpoB embB, gyrA, inhA-Pro, katG, pncA, rpoB embB, inhA-Pro, katG, rpoB embB, gyrA, inhA-Pro, katG, pncA, rpoB, rpsL, rrs embB, inhA-Pro, katG, pncA, rpoB, rpsL embB, gyrA, inhA-Pro, katG, pncA, rpoB, rpsL, rrs embB, gyrA, inhA-Pro, katG, pncA, rpoB, rpsL, rrs embB, gyrA, inhA-Pro, katG, pncA, rpoB, rpsL embB, gyrA, katG, rpoB embB, katG, pncA, rpoB embB, katG, pncA, rpoB embB, katG, rpoB, rpsL gyrA, katG, pncA, rpoB, rpsL, rrs embB, katG, rpoB embB, katG, rpsL embB, gyrA, katG, rpoB, rpsL katG embB, gyrA, katG, rpoB, rpsL embB, katG, rpoB, rpsL katG, rpoB, rpsL embB, katG, rpoB, rpsL embB, katG, rpoB, rpsL embB, inhA-Pro, katG, rpoB, rpsL, rrs embB, inhA-Pro, katG, pncA, rpoB, rpsL, rrs embB, katG, rpoB embB, inhA-Pro, katG, rpoB embB, gyrA, katG, rpoB embB, gyrA, katG, rpoB, rpsL, rrs embB, gyrA, inhA-Pro, katG, pncA, rpoB, rpsL katG, pncA, rpoB, rpsL, rrs embB, gyrA, inhA-Pro, katG, pncA, rpoB embB, gyrA, inhA-Pro, katG, pncA, rpoB embB, gyrA, inhA-Pro, katG, pncA, rpoB, rpsL, rrs embB, inhA-Pro, katG, pncA, rpoB, rpsL embB, gyrA, inhA-Pro, katG, rpoB, rpsL embB, gyrA, inhA-Pro, katG, rpoB, rpsL embB, gyrA, inhA-Pro, katG, rpoB, rpsL embB, gyrA, inhA-Pro, katG, rpoB, rpsL embB, gyrA, inhA-Pro, katG, rpoB, rpsL katG, rpoB gyrA, katG embB, katG, rpoB, rpsL embB, gyrA, inhA-Pro, katG, pncA, rpoB, rpsL rpsL rpsL gyrA, katG, rpoB katG, pncA, rpoB katG embB, gyrA, katG, rpoB, rpsL katG, rpoB katG, rpsL embB, katG, rpoB, rpsL, rrs rpsL inhA-Pro, rpsL embB, katG, rpoB, rpsL embB, katG, rpoB, rpsL katG, rpoB, rpsL gyrA, katG, rpoB, rpsL embB, katG, rpsL embB, katG, rpsL katG inhA-Pro embB, katG, rpoB, rpsL, rrs embB, gyrA, katG, rpoB, rpsL, rrs katG, rpoB, rpsL embB, inhA-Pro, katG, pncA, rpoB katG, rpoB, rpsL, rrs katG, rpoB gyrA, rpoB, rpsL gyrA, rpoB, rpsL embB, gyrA, katG, rpoB embB, gyrA, katG, rpoB embB, gyrA, katG, rpoB, rpsL embB, gyrA, katG, rpoB, rpsL gyrA, inhA-Pro, katG, rpoB, rpsL gyrA, inhA-Pro, katG, rpoB, rpsL gyrA, inhA-Pro, katG, rpoB, rpsL embB, gyrA, inhA-Pro, katG, rpoB, rpsL, rrs embB, gyrA, inhA-Pro, katG, rpoB, rpsL, rrs katG, rpoB, rpsL katG, rpoB, rpsL inhA-Pro, katG, rpoB, rpsL, rrs embB, inhA-Pro, katG, rpoB embB, inhA-Pro, katG, rpoB embB, katG katG gyrA, inhA-Pro, katG, rpoB, rpsL embB, katG, rpoB, rpsL embB, katG, rpoB, rpsL rpoB gyrA, katG, rpoB gyrA, inhA-Pro, katG, pncA, rpoB, rpsL embB, gyrA, katG, rpoB, rpsL katG, rpoB gyrA, inhA-Pro, katG, rpoB, rpsL, rrs katG, rpsL embB, inhA-Pro, katG, rpoB, rpsL embB, katG, rpoB, rpsL embB, katG, rpoB, rpsL rrs embB, gyrA, katG, rpoB, rpsL embB, inhA-Pro, katG, pncA, rpoB katG, rpoB, rpsL katG, rpoB, rpsL embB, gyrA, katG, pncA, rpoB, rpsL, rrs gyrA, inhA-Pro, katG, rpoB, rrs embB, katG, pncA, rpoB, rpsL embB, inhA-Pro, katG, rpoB embB, katG, rpoB, rpsL katG, rpoB gyrA, katG, rpoB inhA-Pro inhA-Pro gyrA, inhA-Pro, katG, rpoB, rpsL katG, rpoB gyrA, inhA-Pro, katG gyrA, inhA-Pro, katG, rpsL embB, katG, rpoB embB, gyrA, katG, rpoB, rpsL embB, katG, rpoB, rpsL embB, katG, rpoB, rpsL embB, katG, rpoB, rpsL embB, katG, rpoB, rpsL embB, gyrA, katG, rpoB embB, gyrA, katG, rpoB katG, rpoB, rpsL embB, gyrA, katG, rpoB, rpsL, rrs embB, inhA-Pro, katG, rpoB katG, rpsL embB, inhA-Pro, katG, rpoB embB, katG, rpoB, rpsL embB, katG, rpoB, rpsL rpoB rpoB gyrA, katG, rpoB, rrs gyrA, katG, rpoB, rrs embB, katG, rpoB, rpsL embB, katG, rpoB, rpsL rpsL inhA-Pro, rpoB, rpsL inhA-Pro, rpoB, rpsL inhA-Pro, katG, rpoB, rpsL embB, gyrA, inhA-Pro, katG, pncA, rpoB, rpsL, rrs inhA-Pro, katG, rpoB, rpsL inhA-Pro, katG, rpoB, rpsL inhA-Pro, katG, rpoB, rpsL inhA-Pro, katG, rpoB, rpsL embB, inhA-Pro, katG, rpoB, rpsL inhA-Pro, katG, rpoB, rpsL embB, katG, rpoB, rpsL katG, rpoB, rpsL embB, katG, rpoB, rpsL embB, katG, pncA, rpoB, rpsL embB, gyrA, katG, rpoB, rpsL, rrs embB, gyrA, inhA-Pro, katG, rpoB, rpsL embB, katG, pncA, rpoB, rpsL embB, katG, rpoB embB, katG, rpoB embB, inhA-Pro, katG, rpoB inhA-Pro, rpoB katG, rpoB, rpsL katG, rpoB, rpsL embB, katG, pncA, rpoB, rpsL katG, rpoB katG, rpoB embB, gyrA, inhA-Pro, katG, rpoB, rpsL, rrs embB, gyrA, inhA-Pro, katG, pncA, rpoB, rpsL embB, gyrA, inhA-Pro, katG, rpoB, rpsL, rrs embB, gyrA, inhA-Pro, katG, rpoB, rpsL, rrs rpsL embB, gyrA, inhA-Pro, katG, rpoB, rpsL, rrs embB, gyrA, inhA-Pro, katG, rpoB, rpsL, rrs embB, gyrA, inhA-Pro, katG, pncA, rpoB, rpsL, rrs embB, gyrA, inhA-Pro, katG, rpoB, rpsL, rrs embB, gyrA, inhA-Pro, katG, rpoB, rpsL, rrs embB, gyrA, inhA-Pro, katG, pncA, rpoB, rpsL, rrs embB, inhA-Pro, katG, pncA, rpoB embB, gyrA, inhA-Pro, katG, rpoB, rpsL, rrs embB, katG, rpoB, rrs katG, rpoB, rpsL embB, gyrA, katG, rpoB embB, gyrA, inhA-Pro, katG, rpoB, rpsL katG, pncA, rpoB, rpsL gyrA, katG, rpoB, rpsL embB, gyrA, katG, rpoB, rpsL embB, gyrA, katG, rpoB, rpsL embB, gyrA, katG, rpoB, rpsL embB, gyrA, inhA-Pro, katG, rpoB, rpsL embB, gyrA, inhA-Pro, katG, rpoB, rpsL inhA-Pro, katG, rpoB, rpsL embB, gyrA, katG, rpoB embB, katG, rpoB, rpsL katG, rpoB embB, gyrA, inhA-Pro, katG, pncA, rpoB, rpsL, rrs gyrA, inhA-Pro, katG, pncA, rpoB, rpsL gyrA, katG, rpoB, rpsL gyrA, inhA-Pro, katG, rpoB, rpsL embB, katG, pncA, rpoB, rpsL embB, gyrA, inhA-Pro, katG, rpoB, rpsL gyrA, inhA-Pro, katG, rpoB, rpsL embB, katG, rpoB, rpsL embB, katG, rpoB, rpsL embB, inhA-Pro, katG, rpoB, rpsL gyrA, inhA-Pro, katG, pncA, rpoB, rpsL embB, katG, rpoB, rpsL inhA-Pro, katG, rpoB, rpsL katG, rpoB, rpsL inhA-Pro, katG, rpoB, rpsL embB, katG, rpoB, rpsL embB, gyrA, inhA-Pro, katG, rpoB, rpsL, rrs embB, gyrA, inhA-Pro, katG, rpoB, rpsL, rrs embB, gyrA, inhA-Pro, katG, rpoB, rpsL, rrs gyrA, katG, rpoB, rpsL embB, gyrA, inhA-Pro, katG, pncA, rpoB, rpsL, rrs embB, gyrA, katG, rpoB, rpsL embB, inhA-Pro, katG, pncA, rpoB embB, gyrA, inhA-Pro, katG, rpoB, rpsL, rrs embB, gyrA, inhA-Pro, katG, pncA, rpoB, rpsL, rrs embB, inhA-Pro, katG, rpoB, rpsL, rrs embB, gyrA, inhA-Pro, katG, rpoB, rpsL, rrs embB, katG, rpsL embB, inhA-Pro, katG, pncA, rpoB, rpsL embB, inhA-Pro, katG, rpoB embB, katG, pncA, rpoB, rpsL, rrs embB, gyrA, inhA-Pro, katG, pncA, rpoB embB, gyrA, inhA-Pro, katG, rpoB, rpsL gyrA, katG, pncA, rpoB, rpsL, rrs embB, gyrA, katG, rpoB, rpsL, rrs embB, gyrA, katG, rpoB embB, katG, rpoB embB, gyrA, katG, rpoB embB, gyrA, inhA-Pro, katG, pncA, rpoB embB, gyrA, inhA-Pro, katG, pncA, rpoB gyrA, inhA-Pro, katG, rpoB, rpsL embB, inhA-Pro, katG, pncA, rpoB embB, gyrA, katG, rpoB, rpsL embB, gyrA, inhA-Pro, katG, rpoB embB, gyrA, inhA-Pro, katG, pncA, rpoB, rpsL, rrs embB, inhA-Pro, katG, pncA, rpoB embB, gyrA, inhA-Pro, katG, rpoB, rpsL, rrs gyrA, katG, rpoB, rpsL embB, gyrA, katG, rpoB, rpsL embB, gyrA, inhA-Pro, katG, pncA, rpoB embB, katG, rpoB, rpsL embB, inhA-Pro, katG, rpoB gyrA, inhA-Pro, katG, rpoB, rpsL inhA-Pro embB, katG rpoB, rpsL rrs inhA-Pro, katG, rpoB, rpsL embB, katG embB, gyrA, inhA-Pro, katG, rpoB, rpsL embB, gyrA, katG, pncA, rpoB, rpsL embB, gyrA, katG, pncA, rpoB, rpsL inhA-Pro, katG, rpoB, rpsL embB, gyrA, katG, rpoB, rpsL, rrs gyrA, inhA-Pro, katG, rpoB, rpsL gyrA, inhA-Pro, katG, rpoB, rpsL inhA-Pro, katG, rpoB, rpsL katG, rpoB, rpsL gyrA, inhA-Pro, katG, rpoB, rpsL embB, katG, rpoB, rpsL katG, rpoB embB, gyrA, katG, rpoB, rpsL embB, inhA-Pro, katG, rpoB, rpsL gyrA, inhA-Pro, katG, rpoB, rpsL gyrA, inhA-Pro, katG, rpoB, rpsL embB, katG, rpoB, rpsL embB, katG, rpoB, rpsL gyrA, inhA-Pro, katG, rpoB, rpsL inhA-Pro, katG, rpoB, rpsL rpsL rpsL embB, katG, rpoB, rpsL, rrs embB, katG, rpoB, rpsL embB, katG, rpoB, rpsL embB, gyrA, inhA-Pro, katG, pncA, rpoB, rpsL gyrA, inhA-Pro, katG, rpoB, rpsL gyrA, inhA-Pro, katG, rpoB, rpsL embB, katG, rpoB, rpsL inhA-Pro, katG, rpoB, rpsL inhA-Pro, katG, pncA, rpoB, rpsL inhA-Pro, katG, rpoB, rpsL inhA-Pro, katG, rpoB, rpsL inhA-Pro, katG, rpoB, rpsL inhA-Pro, katG, rpoB, rpsL katG, rpoB, rpsL embB, katG, pncA, rpoB, rpsL embB, gyrA, katG, pncA, rpoB, rpsL embB, gyrA, katG, rpoB, rpsL katG embB, gyrA, katG, pncA, rpoB, rpsL embB, katG, rpoB, rpsL embB, katG, rpoB, rpsL, rrs inhA-Pro, katG, rpoB, rpsL embB, katG, rpoB, rpsL katG, rpoB, rpsL embB, inhA-Pro, katG, rpoB, rpsL embB, katG, rpoB, rpsL embB, katG, rpoB, rpsL gyrA, katG, rpoB, rpsL gyrA, inhA-Pro, katG, pncA, rpoB, rpsL katG, rpoB, rpsL inhA-Pro, katG, pncA, rpoB gyrA, inhA-Pro, katG, rpoB, rpsL embB, katG, rpoB, rpsL embB, inhA-Pro, katG, pncA, rpoB, rpsL, rrs inhA-Pro, katG, rpoB, rpsL gyrA, inhA-Pro, katG, pncA, rpoB, rpsL katG, rpoB embB, katG, rpsL embB, gyrA, katG, rpoB, rpsL, rrs gyrA, katG, rpoB, rpsL, rrs inhA-Pro, katG, rpoB, rpsL katG, rpoB, rpsL embB, katG, rpoB, rpsL embB, katG, rpoB, rpsL gyrA, katG, rpoB, rrs katG, rpoB, rpsL embB, inhA-Pro, katG, rpoB, rpsL embB, katG, rpoB, rpsL rrs embB, gyrA, inhA-Pro, katG, pncA, rpoB gyrA, katG, rpoB rpoB, rrs embB, katG, rpoB, rpsL, rrs embB, gyrA, katG, rpoB, rpsL, rrs embB, gyrA, inhA-Pro, rpoB, rpsL, rrs embB, gyrA, katG, rpoB, rpsL, rrs gyrA, katG, rpoB, rrs embB, gyrA, katG, rpoB, rpsL inhA-Pro, katG, rpoB gyrA, katG, rpoB, rrs gyrA, inhA-Pro, katG, rpoB, rpsL, rrs katG, rpsL gyrA, katG, rpoB, rpsL, rrs gyrA, katG, rpoB embB, gyrA, katG, rrs gyrA, inhA-Pro, katG, rpoB embB, gyrA, katG, rpsL, rrs embB, gyrA, inhA-Pro, katG, rpoB, rrs embB, katG, rpoB, rrs gyrA, inhA-Pro, katG, rpoB, rpsL, rrs embB, gyrA, katG, rpoB, rpsL, rrs embB, gyrA, katG, rpoB, rrs gyrA, katG, rpoB, rpsL embB, katG, rpoB, rpsL embB, gyrA, katG, rpoB, rpsL embB, gyrA, katG, rpoB, rpsL, rrs rrs embB, gyrA, katG, rpsL, rrs gyrA, katG, rpoB, rpsL, rrs katG, rpoB, rpsL, rrs embB, gyrA, katG, rpoB embB, gyrA, inhA-Pro, katG, pncA, rpoB gyrA, katG, pncA, rpsL embB, katG, rpoB, rpsL inhA-Pro, katG, rpoB, rpsL, rrs rpoB embB, katG, rpoB inhA-Pro, katG embB, inhA-Pro, katG embB, katG, rpoB, rpsL embB, inhA-Pro, katG, rpoB, rpsL embB, gyrA, katG, rpoB, rpsL embB, gyrA, katG, rpoB embB, katG gyrA, inhA-Pro, katG, rpoB, rpsL embB, katG, rpoB, rpsL embB, katG, rpsL embB, katG, rpoB, rpsL embB, katG, rpoB, rpsL inhA-Pro, katG, rpoB, rpsL embB, katG, rpoB, rpsL embB, katG, pncA, rpoB, rpsL, rrs embB, gyrA, katG, rpoB, rrs embB, gyrA, katG, rpoB, rpsL, rrs embB, inhA-Pro, katG, pncA, rpoB embB, katG, rpoB, rpsL, rrs embB, gyrA, katG, rpoB, rpsL embB, gyrA, inhA-Pro, katG, rpoB, rpsL inhA-Pro, katG, rpoB, rpsL embB, inhA-Pro, katG, rpsL embB, katG, rpoB katG, pncA, rpoB, rpsL katG, rpoB embB, katG, rpoB, rpsL embB, gyrA, rpsL gyrA, katG, rpoB, rpsL, rrs embB, katG, rpoB, rpsL embB, rpoB, rpsL embB, katG, rpoB, rpsL, rrs embB, gyrA, inhA-Pro, rpoB, rpsL, rrs embB, katG, rpoB embB, katG, rpoB, rpsL inhA-Pro, katG, rpoB, rpsL embB, katG, rpoB, rpsL embB, katG, rpoB, rpsL katG, rpoB, rpsL gyrA, inhA-Pro, katG, rpoB, rpsL embB, gyrA, inhA-Pro, katG, rpoB, rpsL, rrs katG embB, katG, rpoB, rpsL katG, rpoB, rpsL katG, rpoB, rpsL embB, inhA-Pro, katG, rpoB, rpsL katG, rpoB embB, gyrA, inhA-Pro, katG, rpoB, rpsL, rrs embB, katG, rpoB, rpsL katG, rpsL embB, gyrA, inhA-Pro, katG, rpoB, rpsL inhA-Pro inhA-Pro, katG, rpoB, rpsL rpsL embB, gyrA, inhA-Pro, katG, rpoB, rrs embB, katG, rpsL embB, gyrA, katG, rpoB, rpsL, rrs gyrA, inhA-Pro, katG, rpoB, rpsL embB, gyrA, katG, rpoB, rpsL embB, katG, rpoB, rpsL embB, katG, rpoB, rpsL katG, rpoB, rpsL rpoB embB, gyrA, katG, rpoB embB, gyrA, inhA-Pro, katG, rpoB embB, inhA-Pro, katG, rpoB embB, gyrA, katG, rpoB, rrs embB, gyrA, katG, rpoB, rpsL, rrs gyrA, katG, rpoB embB, katG, rpoB, rpsL embB, gyrA, katG, rpoB, rpsL, rrs gyrA, katG, rpoB, rrs embB, gyrA, katG, rpoB, rpsL, rrs embB, gyrA, katG, rpoB embB, gyrA, katG, rpoB embB, katG, rpoB, rpsL, rrs katG, rpoB, rpsL embB, katG, rpoB, rpsL katG, rpoB embB, rpoB, rrs embB, gyrA, inhA-Pro, katG, rpoB embB, inhA-Pro, katG, rpoB, rpsL, rrs katG, rpoB, rpsL embB, gyrA, katG, rpoB, rrs embB, katG, rpoB, rpsL embB, gyrA, katG, rpoB, rpsL, rrs inhA-Pro, katG, rpoB, rpsL katG, rpoB, rpsL, rrs embB, katG, pncA, rpoB, rpsL, rrs embB, katG, rpoB, rpsL inhA-Pro, katG, rpoB katG, rpsL embB, katG, rpsL gyrA, inhA-Pro, katG, rpsL inhA-Pro, katG, rpoB embB, katG, rpoB, rpsL embB, katG, rpoB, rpsL embB, gyrA, katG, rpoB, rpsL gyrA, inhA-Pro, katG, rpoB katG katG, rpsL embB, gyrA, inhA-Pro, katG, rpoB embB, gyrA, katG, rpoB embB, gyrA, katG, rpsL embB, katG, rpoB, rpsL embB, gyrA, katG, rpoB, rpsL embB, gyrA, katG, rpoB, rpsL gyrA, katG, rpoB, rpsL gyrA, katG, rpoB, rpsL gyrA, katG, rpoB, rpsL gyrA, katG, rpoB, rpsL gyrA, katG, rpoB, rpsL gyrA, katG, rpoB, rpsL gyrA, katG, rpoB, rpsL embB, gyrA, katG, rpoB, rrs inhA-Pro embB, gyrA, katG, rpoB, rpsL, rrs rpoB katG, rpoB inhA, inhA-Pro, rpoB embB, gyrA, inhA-Pro, katG, rpoB, rpsL, rrs rpoB katG, rpoB, rpsL rpoB embB, inhA-Pro, katG, rpoB embB, gyrA, katG, rpoB katG, rpoB, rrs katG, rpoB, rpsL inhA-Pro, katG, rpoB, rpsL, rrs gyrA, inhA-Pro, katG, rpoB, rpsL embB, katG, rpoB, rpsL, rrs inhA-Pro, katG, rpoB, rpsL katG, rpoB, rpsL embB, katG, rpoB, rpsL embB, gyrA, katG, pncA, rpoB, rpsL gyrA, katG, rpoB, rpsL rpsL embB, gyrA, inhA-Pro, katG, rpoB, rpsL embB, inhA-Pro, katG, rpoB, rpsL katG embB, katG, rpoB, rpsL katG, rpoB embB, katG, rpoB, rpsL embB, katG, rpoB, rpsL, rrs embB, katG, pncA, rpoB, rpsL katG, rpoB, rpsL embB, gyrA, katG, rpoB embB, inhA-Pro, katG, rpoB, rpsL, rrs embB, gyrA, katG, rpoB, rpsL embB, katG, rpoB, rpsL embB, inhA-Pro, katG, rpoB katG, rpoB katG, rpoB, rpsL embB, katG, rpoB, rpsL embB, gyrA, katG, rpoB, rpsL embB, gyrA, katG, rpoB, rpsL embB, katG, rpoB, rpsL katG, rpoB, rpsL embB, katG, rpoB embB, katG, rpoB, rpsL, rrs katG, rpoB inhA, inhA-Pro, rpoB katG, rpoB embB, rpoB, rrs embB, gyrA, katG, rpoB embB, katG, pncA, rpoB, rpsL, rrs gyrA, rpoB embB, inhA-Pro, katG, rpoB, rpsL, rrs embB, gyrA, inhA-Pro, katG, rpoB, rrs rpoB embB, gyrA, katG, rpoB inhA-Pro, katG, rpoB, rpsL inhA-Pro, katG, rpoB, rpsL embB, gyrA, inhA-Pro, katG, rpoB, rrs embB, katG, rpoB rpoB embB, gyrA, katG, rpoB embB, gyrA, katG, rpoB, rpsL, rrs inhA, inhA-Pro embB, katG, rpoB, rpsL katG, rpoB embB, gyrA, katG, rpoB, rpsL, rrs embB, rpoB, rrs embB, katG, rpoB, rpsL katG, rpoB pncA embB, katG, rpoB, rpsL embB, gyrA, katG, rpoB, rpsL, rrs embB, gyrA, katG, rpoB, rpsL, rrs inhA-Pro, katG, rpoB, rpsL katG, rpoB, rpsL embB, inhA-Pro, katG, rpoB, rpsL inhA-Pro, katG, rpoB, rpsL inhA-Pro, katG, rpoB, rpsL embB, katG, rpoB, rpsL, rrs katG, rpoB inhA-Pro, katG, rpoB, rpsL inhA-Pro, katG, rpoB, rpsL embB, katG, rpsL gyrA, inhA-Pro, katG, pncA, rpoB, rpsL embB, katG, rpoB, rpsL inhA-Pro, katG, rpoB, rpsL katG, rpsL embB, inhA-Pro, katG, rpoB, rpsL embB, inhA-Pro, katG, rpoB, rpsL embB, gyrA, inhA-Pro, katG, rpoB, rpsL inhA-Pro, katG, rpoB, rpsL gyrA, inhA-Pro, katG, rpoB, rpsL inhA-Pro, katG, rpoB, rpsL inhA-Pro, katG, rpoB, rpsL inhA-Pro, katG, rpoB, rpsL rpoB, rpsL inhA-Pro, katG, rpoB, rpsL inhA-Pro, katG, rpoB, rpsL inhA-Pro, katG, rpoB, rpsL embB, katG, rpoB, rpsL inhA-Pro, katG, rpoB, rpsL katG, rpsL gyrA, inhA-Pro, katG, rpoB, rpsL embB, gyrA, inhA-Pro, katG, rpoB, rpsL inhA-Pro, katG, rpoB, rpsL embB, gyrA, katG, rpoB embB, inhA-Pro, katG, rpoB, rpsL embB, katG, rpoB, rpsL embB, katG, rpoB, rpsL inhA-Pro, katG, rpoB, rpsL embB, katG, pncA, rpoB, rpsL inhA-Pro, katG, rpoB, rpsL gyrA, inhA-Pro, katG, rpoB, rpsL katG katG katG, rpoB embB, katG, rpoB, rpsL embB, katG, rpoB, rpsL gyrA, inhA-Pro, katG, rpoB, rpsL embB, katG, rpoB embB, katG, rpoB, rpsL inhA-Pro, katG, rpsL gyrA, inhA-Pro, katG, rpoB, rpsL inhA-Pro, katG, rpoB, rpsL inhA-Pro, katG, rpoB, rpsL katG gyrA, inhA-Pro, katG, rpoB, rpsL inhA-Pro, katG, rpoB, rpsL inhA-Pro, katG, rpoB, rpsL inhA-Pro inhA-Pro, katG, rpoB, rpsL inhA-Pro, katG, rpoB, rpsL inhA-Pro, katG, rpoB, rpsL inhA-Pro, katG, rpoB, rpsL embB, inhA-Pro, katG, rpoB, rpsL gyrA, inhA-Pro, katG, rpoB, rpsL inhA-Pro, katG, rpoB, rpsL embB, katG, rpoB, rpsL, rrs gyrA, inhA-Pro, katG, rpoB, rpsL inhA-Pro, katG, rpoB, rpsL gyrA, inhA-Pro, katG, rpoB, rpsL embB, katG, rpoB, rpsL inhA-Pro, katG, rpoB, rpsL inhA-Pro, katG, rpsL inhA-Pro, katG, rpoB katG, rpoB, rpsL gyrA, inhA-Pro, katG, rpoB, rpsL gyrA, inhA-Pro, katG, pncA, rpoB, rpsL embB, katG, pncA, rpoB, rpsL gyrA, inhA-Pro, katG, rpoB, rpsL gyrA, inhA-Pro, katG, rpoB, rpsL embB, gyrA, katG, rpoB, rpsL katG, rpoB, rpsL katG, rpoB, rpsL embB, katG, pncA, rpoB, rpsL embB, katG, pncA, rpoB, rpsL embB, katG, pncA, rpoB, rpsL gyrA, katG, rpoB, rpsL inhA-Pro, katG, rpoB, rpsL inhA-Pro, katG, rpoB, rpsL embB, gyrA, katG, rpoB gyrA, inhA-Pro, katG, pncA, rpoB, rpsL embB, inhA-Pro, katG, rpoB embB, katG, rpoB, rpsL inhA-Pro, rpoB katG, rpoB embB, katG, rpoB, rrs embB, gyrA, katG, rpoB embB, gyrA, katG, rpoB, rpsL, rrs inhA-Pro, katG, rpoB, rpsL embB, katG, pncA, rpoB, rpsL embB, katG, rpoB embB, katG, rpoB embB, gyrA, inhA-Pro, katG, rpoB, rrs katG, rpsL inhA-Pro, katG, rpoB, rpsL katG, rpoB, rpsL gyrA, inhA-Pro, katG, rpoB, rpsL katG, rpoB, rpsL embB, katG, rpoB, rpsL inhA-Pro, katG, rpoB, rpsL katG, rpsL katG, rpoB gyrA, katG, rpoB, rpsL, rrs rpsL embB, katG, rpoB, rpsL embB, katG, rpoB, rpsL embB, gyrA, katG, rpoB, rpsL embB, gyrA, katG, pncA, rpoB, rpsL embB, katG, rpoB, rpsL katG, pncA, rpoB katG, rpoB, rpsL gyrA, katG, rpoB, rpsL inhA-Pro, katG, rpoB, rpsL inhA-Pro, katG, rpoB, rpsL inhA-Pro, katG, rpoB, rpsL gyrA, inhA-Pro, katG, rpoB, rpsL katG, rpoB inhA-Pro, katG, rpoB, rpsL inhA-Pro, katG, rpoB, rpsL katG, rpoB, rpsL embB, katG, rpoB, rpsL katG, rpoB, rpsL embB, gyrA, katG, rpoB, rpsL inhA-Pro, katG, rpoB, rpsL inhA-Pro, katG, rpoB, rpsL inhA-Pro, katG rpsL embB, katG, rpoB, rpsL embB, katG, rpoB, rpsL gyrA, inhA-Pro, katG, rpoB, rpsL inhA-Pro, katG, rpoB, rpsL gyrA, katG katG, rpoB, rpsL inhA-Pro, katG, rpoB embB, katG, rpoB, rpsL embB, katG, rpoB, rpsL, rrs rpsL katG, rpsL embB, katG, rpoB rpsL embB, gyrA, inhA-Pro, katG, rpoB, rpsL, rrs embB, katG, pncA, rpoB, rpsL embB, katG, pncA, rpoB, rpsL gyrA, inhA-Pro, katG, rpoB, rpsL inhA-Pro, katG, rpoB, rpsL embB, inhA-Pro, katG, rpoB, rpsL embB, katG, rpoB, rpsL katG, rpoB, rpsL embB, katG, rpoB, rpsL inhA-Pro, katG, rpoB, rpsL gyrA, inhA-Pro, katG, rpoB, rpsL embB, gyrA, inhA-Pro, katG, rpoB, rrs embB, inhA-Pro, katG, rpoB, rpsL embB, gyrA, inhA-Pro, katG, rpoB, rpsL katG, rpoB, rpsL embB, katG, pncA, rpoB, rpsL embB, katG, rpoB, rpsL gyrA, inhA-Pro, katG, rpoB, rpsL embB, gyrA, katG, rpoB, rpsL, rrs inhA-Pro, katG, rpoB, rpsL inhA-Pro, katG, rpoB, rpsL embB, inhA-Pro, katG, rpoB, rpsL embB, gyrA, katG, rpoB, rpsL katG, rpoB, rpsL embB, katG, rpoB, rpsL rpsL embB, katG katG, rpsL inhA-Pro, katG, rpoB, rpsL inhA-Pro, katG, rpoB, rpsL inhA-Pro, katG, rpoB, rpsL embB, katG, rpoB, rpsL inhA-Pro, katG, rpoB, rpsL inhA-Pro, katG, rpoB, rpsL inhA-Pro, katG, rpoB, rpsL inhA-Pro, katG, rpoB, rpsL inhA-Pro, katG, rpoB, rpsL inhA-Pro, katG, rpoB, rpsL embB, gyrA, inhA-Pro, katG, rpoB, rpsL, rrs embB, katG, rpoB, rpsL gyrA, inhA-Pro, katG, rpoB, rpsL embB, katG, rpoB, rpsL embB, inhA-Pro, katG, rpoB, rpsL gyrA, inhA-Pro, katG, rpoB, rpsL inhA-Pro, katG, pncA, rpoB, rpsL katG rpsL embB, inhA-Pro, katG, rpoB, rpsL gyrA, inhA-Pro, katG, rpoB, rpsL embB, katG, rpoB, rpsL katG, rpsL inhA-Pro, katG, rpoB, rpsL embB, katG, rpsL inhA-Pro, katG, rpoB, rpsL embB, katG, rpoB, rpsL gyrA, inhA-Pro, katG, rpoB, rpsL inhA-Pro, katG, rpoB, rpsL katG embB, gyrA, inhA-Pro, katG, rpoB, rpsL inhA-Pro, katG, rpoB, rpsL inhA-Pro, katG, rpoB, rpsL inhA-Pro, katG, rpoB, rpsL embB, gyrA, katG, rpoB, rpsL, rrs embB, gyrA, katG, rpoB, rpsL, rrs embB, inhA-Pro, katG, rpoB, rrs inhA-Pro, katG, rpoB, rpsL embB, gyrA, inhA-Pro, katG, rpoB, rrs embB, inhA-Pro, katG, rpoB, rpsL, rrs embB, inhA-Pro, katG, rpoB embB, gyrA, katG, rpoB rpoB rpoB embB, gyrA, katG, rpoB embB, gyrA, inhA-Pro, katG, rpoB, rrs embB, gyrA, katG, rpoB katG, rpoB embB, gyrA, katG, rpoB embB, gyrA, inhA-Pro, katG, rpoB, rpsL, rrs rpoB embB, inhA-Pro, katG, rpoB, rpsL, rrs embB, katG, rpoB, rpsL, rrs katG, rpoB rpoB embB, gyrA, inhA-Pro, katG, rpoB, rrs rpoB embB, gyrA, katG, rpoB, rrs embB, gyrA, katG, rpoB embB, inhA-Pro, katG, rpoB embB, inhA-Pro, katG, rpoB, rpsL, rrs embB, katG, rpoB, rpsL embB, inhA-Pro, katG, rpoB, rrs katG, rpoB embB, inhA-Pro, katG, rpoB embB, katG, rpoB, rpsL embB, katG, rpoB, rpsL inhA-Pro, katG, rpoB, rpsL, rrs embB, gyrA, katG, rpoB embB, inhA-Pro, katG, rpoB katG, rpoB embB, gyrA, katG, rpoB, rrs embB, gyrA, katG, rpoB, rpsL, rrs embB, katG, rpoB embB, gyrA, katG, rpoB, rpsL embB, gyrA, katG, rpoB, rpsL, rrs gyrA, inhA-Pro, katG, rpoB, rpsL embB, gyrA, katG, rpoB embB, katG, rpoB, rrs embB, gyrA, inhA, inhA-Pro, rpoB embB, katG, pncA, rpoB, rrs embB, katG, rpoB, rpsL katG, rpoB embB, katG, rpoB, rpsL embB, gyrA, katG, rpoB inhA-Pro, katG, rpoB, rpsL embB, gyrA, katG, pncA, rpoB, rpsL embB, gyrA, inhA-Pro, katG, rpoB, rpsL embB, gyrA, katG, pncA, rpoB, rpsL embB, katG, rpoB, rpsL gyrA, inhA-Pro, katG, rpoB, rpsL gyrA, inhA-Pro, katG, rpoB, rpsL gyrA, katG, rpoB, rpsL embB, inhA-Pro, katG, rpoB, rpsL embB, gyrA, katG, pncA, rpoB, rpsL gyrA, inhA-Pro, katG, rpoB, rpsL gyrA, inhA-Pro, katG, rpoB, rpsL inhA-Pro, katG, rpoB, rpsL katG, rpoB, rpsL katG, rpoB, rpsL embB, gyrA, katG, rpoB, rpsL, rrs embB, gyrA, katG, pncA, rpoB, rpsL, rrs embB, gyrA, katG, rpoB, rrs katG, rpoB, rpsL rpoB embB, inhA-Pro, katG, rpoB embB, katG, pncA, rpoB embB, inhA-Pro, katG, rpoB, rpsL katG, rpoB, rrs embB, gyrA, katG, rpoB katG, rpoB embB, rpoB embB, gyrA, inhA-Pro, katG, rpoB, rpsL, rrs\""
      ],
      "execution_count": null,
      "outputs": []
    },
    {
      "cell_type": "code",
      "metadata": {
        "id": "3mgxzvkYZjZk"
      },
      "source": [
        "words = nltk.word_tokenize(para)"
      ],
      "execution_count": null,
      "outputs": []
    },
    {
      "cell_type": "code",
      "metadata": {
        "id": "r5wQQaPJZjZk"
      },
      "source": [
        "unique = []\n",
        "for i in words:\n",
        "    if i not in unique:\n",
        "        if(i!=','):\n",
        "            unique.append(i)"
      ],
      "execution_count": null,
      "outputs": []
    },
    {
      "cell_type": "code",
      "metadata": {
        "id": "NmeULYegZjZk",
        "outputId": "18b60165-1105-4318-ba91-12c447797faa"
      },
      "source": [
        "print(unique)"
      ],
      "execution_count": null,
      "outputs": [
        {
          "output_type": "stream",
          "text": [
            "['embB', 'katG', 'rpoB', 'rpsL', 'gyrA', 'inhA-Pro', 'pncA', 'rrs', 'inhA']\n"
          ],
          "name": "stdout"
        }
      ]
    },
    {
      "cell_type": "code",
      "metadata": {
        "id": "-VT5d4uUZjZl",
        "outputId": "b1fa67c0-3cc4-46bc-87ba-6f8462d0521c"
      },
      "source": [
        "print(words.count(\"embB\"))\n",
        "print(words.count(\"katG\"))\n",
        "print(words.count(\"rpoB\"))\n",
        "print(words.count(\"rpsL\"))\n",
        "print(words.count(\"gyrA\"))\n",
        "print(words.count(\"inhA-Pro\"))\n",
        "print(words.count(\"pncA\"))\n",
        "print(words.count(\"rrs\"))\n",
        "print(words.count(\"inhA\"))"
      ],
      "execution_count": null,
      "outputs": [
        {
          "output_type": "stream",
          "text": [
            "835\n",
            "1348\n",
            "1335\n",
            "1028\n",
            "590\n",
            "574\n",
            "183\n",
            "326\n",
            "10\n"
          ],
          "name": "stdout"
        }
      ]
    },
    {
      "cell_type": "code",
      "metadata": {
        "id": "JiptrY_XZjZl"
      },
      "source": [
        "import pandas as pd\n",
        "df = pd.read_csv('Book1.csv')\n"
      ],
      "execution_count": null,
      "outputs": []
    },
    {
      "cell_type": "code",
      "metadata": {
        "id": "YWTnNpPnZjZl"
      },
      "source": [
        "import re\n",
        "\n",
        "corpus = []\n",
        "for i in df[\"Gene_SNP_Mutation\"]:\n",
        "    j = re.sub('[^a-zA-z]',' ', i)\n",
        "    corpus.append(i)  "
      ],
      "execution_count": null,
      "outputs": []
    },
    {
      "cell_type": "code",
      "metadata": {
        "id": "MMOhT9l5ZjZl",
        "outputId": "3c3b49a2-0874-44c2-b01d-d5cd2beacc00"
      },
      "source": [
        "print(corpus)"
      ],
      "execution_count": null,
      "outputs": [
        {
          "output_type": "stream",
          "text": [
            "['embB, inhA-Pro, katG, pncA, rpoB', 'katG, rpoB, rpsL', 'embB, katG, rpoB', 'embB, inhA-Pro, katG, rpoB, rpsL, rrs', 'embB, inhA-Pro, katG, pncA, rpoB', 'embB, gyrA, katG, rpoB, rpsL', 'embB, gyrA, inhA-Pro, katG, rpoB, rpsL', 'embB, inhA-Pro, katG, rpoB, rpsL', 'gyrA, inhA-Pro, katG, rpoB, rpsL, rrs', 'embB, inhA, inhA-Pro, rpoB', 'gyrA, inhA-Pro, katG, rpoB, rpsL, rrs', 'embB, gyrA, inhA-Pro, katG, pncA, rpoB, rpsL, rrs', 'katG, rpoB, rpsL', 'katG, rpoB, rpsL', 'embB, gyrA, katG, pncA, rpoB, rpsL', 'inhA-Pro, katG, rpoB, rpsL', 'gyrA, inhA-Pro, katG, rpoB, rpsL', 'gyrA, inhA-Pro, katG, rpoB, rpsL', 'inhA-Pro, katG, rpoB, rpsL', 'inhA-Pro, katG, rpoB, rpsL', 'inhA-Pro, katG, rpoB, rpsL', 'inhA-Pro, katG, rpoB, rpsL', 'embB, inhA-Pro, katG, rpoB, rpsL', 'embB, gyrA, inhA-Pro, katG, rpoB, rpsL, rrs', 'gyrA, inhA-Pro, katG, rpoB, rpsL', 'embB, gyrA, katG, rpoB', 'embB, katG, rpsL', 'embB, gyrA, katG, rpoB, rrs', 'embB, gyrA, katG, rpoB, rpsL', 'embB, gyrA, katG, rpoB, rpsL', 'embB, inhA-Pro, katG, rpoB', 'katG, rpoB, rrs', 'inhA-Pro, rpoB', 'inhA, inhA-Pro, rpoB', 'katG', 'embB, gyrA, katG, rpoB, rpsL, rrs', 'embB, gyrA, katG, pncA, rpoB, rpsL, rrs', 'embB, gyrA, inhA-Pro, katG, pncA, rpoB, rpsL', 'gyrA, inhA-Pro, katG, rpoB, rpsL, rrs', 'katG, rpoB, rpsL', 'rpsL', 'embB, katG, rpoB, rpsL, rrs', 'embB, inhA-Pro, katG, rpoB', 'embB, katG, rpoB, rpsL', 'embB, gyrA, katG, rpoB, rpsL', 'gyrA, katG, rpoB', 'embB, katG, rpoB, rpsL', 'embB, katG, rpoB, rpsL', 'embB, katG, rpoB', 'embB, katG, pncA, rpoB', 'embB, katG, rpoB, rpsL, rrs', 'embB, gyrA, katG, rpoB, rpsL, rrs', 'embB, gyrA, katG, rpoB, rpsL, rrs', 'embB, katG, rpoB, rpsL, rrs', 'embB, gyrA, katG, rpoB, rpsL, rrs', 'embB, gyrA, inhA-Pro, katG, rpoB, rpsL', 'embB, gyrA, katG, rpoB', 'embB, gyrA, katG, rpoB', 'gyrA, katG, rpoB', 'embB, gyrA, katG, rpoB, rrs', 'embB, gyrA, inhA-Pro, katG, pncA, rpoB', 'katG, rpoB', 'embB, gyrA, inhA-Pro, katG, pncA, rpoB', 'embB, gyrA, katG, rpsL', 'gyrA, katG, rpoB, rpsL, rrs', 'gyrA, inhA-Pro, katG, rpoB, rpsL', 'embB, katG, rpoB, rpsL', 'embB, gyrA, katG, rpoB, rpsL', 'katG, rpoB, rpsL', 'embB, gyrA, inhA, katG, rpoB, rpsL, rrs', 'gyrA, katG, rpoB', 'embB, inhA-Pro, katG, rpoB', 'embB, katG, rpoB', 'embB, katG, rpoB, rpsL', 'embB, katG, rpoB, rpsL', 'embB, katG, rpoB, rpsL', 'inhA-Pro, rpoB', 'embB, katG, rpoB, rpsL, rrs', 'embB, inhA-Pro, katG, rpoB, rpsL', 'embB, katG, rpoB, rpsL', 'gyrA, inhA-Pro, katG, rpoB, rpsL', 'gyrA, katG, rpoB, rpsL', 'gyrA, katG, rpoB, rpsL', 'embB, inhA-Pro, katG, rpoB, rpsL, rrs', 'embB, gyrA, katG, rpoB, rpsL, rrs', 'rrs', 'embB, gyrA, katG, rpoB', 'inhA-Pro, rpoB', 'rpoB', 'embB, inhA-Pro, rpoB, rrs', 'gyrA, inhA-Pro, katG, rpoB, rpsL, rrs', 'gyrA, katG, rpoB, rpsL', 'embB, katG, rpoB, rpsL', 'embB, gyrA, katG, pncA, rpoB, rpsL', 'katG, rpoB, rpsL', 'embB, gyrA, katG, rpoB, rpsL, rrs', 'embB, gyrA, katG, rpoB, rpsL, rrs', 'embB, gyrA, rpoB', 'embB, gyrA, inhA-Pro, katG, rpoB, rpsL, rrs', 'embB, gyrA, inhA-Pro, katG, rpoB, rpsL', 'inhA-Pro, katG, rpoB, rpsL', 'embB, gyrA, katG, rpoB, rpsL, rrs', 'katG, rpoB', 'katG, rpoB, rpsL', 'katG, rpoB, rpsL', 'embB, katG, rpoB, rpsL', 'katG, rpoB, rpsL', 'katG, rpoB, rpsL, rrs', 'katG, rpoB, rpsL', 'embB, gyrA, katG', 'gyrA, inhA-Pro, katG, rpoB, rpsL', 'rpoB', 'inhA-Pro, rpoB', 'embB, katG, rpoB, rpsL', 'embB, gyrA, katG', 'embB, katG, rpoB', 'embB, gyrA, inhA-Pro, katG, pncA, rpoB', 'gyrA, katG, rpoB, rpsL', 'embB, gyrA, inhA-Pro, katG, pncA, rpoB', 'gyrA, inhA-Pro, katG, rpoB, rpsL, rrs', 'embB, gyrA, katG, rpoB, rpsL', 'embB, katG, rpoB, rrs', 'embB, inhA-Pro, katG, rpoB, rpsL', 'inhA-Pro, katG, rpoB, rpsL', 'katG, rpoB, rpsL, rrs', 'embB, gyrA, katG, rpoB, rpsL', 'embB, inhA-Pro, katG, rpoB, rpsL, rrs', 'embB, inhA-Pro, katG, rpoB, rpsL', 'embB, gyrA, katG, rpoB', 'embB, gyrA, inhA-Pro, katG, rpoB', 'gyrA, katG, rpoB, rpsL, rrs', 'embB, katG, rpoB, rpsL, rrs', 'katG, rpoB, rpsL', 'embB, gyrA, katG, rpoB, rpsL, rrs', 'katG, rpoB, rpsL', 'katG, rpoB, rpsL', 'gyrA, katG, rpoB, rpsL, rrs', 'embB, inhA-Pro, katG, pncA, rpoB', 'embB, katG, rpoB', 'rpoB', 'embB, gyrA, inhA-Pro, katG, pncA, rpoB, rpsL', 'embB, katG, pncA, rpoB, rpsL', 'embB, katG, rpoB, rpsL', 'embB, gyrA, katG, rpoB, rpsL', 'embB, gyrA, inhA-Pro, katG, pncA, rpoB', 'embB, gyrA, inhA-Pro, katG, pncA, rpoB', 'embB, gyrA, inhA-Pro, katG, pncA, rpoB, rpsL, rrs', 'embB, inhA-Pro, katG, pncA, rpoB, rpsL', 'embB, gyrA, inhA-Pro, katG, pncA, rpoB, rpsL, rrs', 'embB, katG, pncA, rpoB', 'embB, katG, rpoB', 'embB, gyrA, katG, rpoB, rpsL', 'katG, rpoB, rpsL', 'embB, katG, rpoB, rpsL', 'embB, katG, rpoB, rpsL', 'embB, inhA-Pro, katG, rpoB, rpsL, rrs', 'embB, inhA-Pro, katG, pncA, rpoB, rpsL, rrs', 'embB, katG, rpoB', 'embB, inhA-Pro, katG, rpoB', 'embB, gyrA, katG, rpoB', 'embB, gyrA, katG, rpoB, rpsL, rrs', 'embB, gyrA, inhA-Pro, katG, pncA, rpoB, rpsL', 'katG, pncA, rpoB, rpsL, rrs', 'embB, gyrA, inhA-Pro, katG, pncA, rpoB', 'embB, gyrA, inhA-Pro, katG, pncA, rpoB', 'embB, gyrA, inhA-Pro, katG, pncA, rpoB, rpsL, rrs', 'embB, gyrA, inhA-Pro, katG, rpoB, rpsL', 'embB, gyrA, inhA-Pro, katG, rpoB, rpsL', 'embB, gyrA, inhA-Pro, katG, rpoB, rpsL', 'embB, gyrA, inhA-Pro, katG, rpoB, rpsL', 'embB, gyrA, inhA-Pro, katG, pncA, rpoB, rpsL', 'rpsL', 'katG, pncA, rpoB', 'katG, rpsL', 'rpsL', 'inhA-Pro, rpsL', 'gyrA, katG, rpoB, rpsL', 'embB, katG, rpsL', 'embB, katG, rpsL', 'embB, inhA-Pro, katG, pncA, rpoB', 'katG, rpoB, rpsL, rrs', 'gyrA, rpoB, rpsL', 'embB, gyrA, katG, rpoB, rpsL', 'gyrA, inhA-Pro, katG, rpoB, rpsL', 'embB, gyrA, inhA-Pro, katG, rpoB, rpsL, rrs', 'katG, rpoB', 'embB, inhA-Pro, katG, rpoB, rpsL', 'embB, gyrA, katG, rpoB, rpsL', 'embB, inhA-Pro, katG, rpoB', 'gyrA, inhA-Pro, katG, rpoB, rpsL', 'embB, gyrA, katG, rpoB, rpsL', 'embB, katG, rpoB, rpsL', 'embB, katG, rpoB, rpsL', 'rpoB', 'gyrA, katG, rpoB, rrs', 'inhA-Pro, katG, rpoB, rpsL', 'inhA-Pro, katG, rpoB, rpsL', 'embB, inhA-Pro, katG, rpoB, rpsL', 'katG, rpoB, rpsL', 'embB, katG, pncA, rpoB, rpsL', 'embB, gyrA, inhA-Pro, katG, pncA, rpoB, rpsL', 'embB, gyrA, inhA-Pro, katG, rpoB, rpsL, rrs', 'embB, gyrA, inhA-Pro, katG, rpoB, rpsL, rrs', 'embB, katG, rpoB, rpsL', 'inhA-Pro, katG, rpoB, rpsL', 'embB, katG, rpoB, rpsL', 'embB, gyrA, inhA-Pro, katG, rpoB, rpsL, rrs', 'embB, inhA-Pro, katG, pncA, rpoB, rpsL', 'gyrA, katG, pncA, rpoB, rpsL, rrs', 'gyrA, inhA-Pro, katG, rpoB, rpsL', 'embB, inhA-Pro, katG, pncA, rpoB', 'embB, inhA-Pro, katG, rpoB', 'inhA-Pro', 'embB, katG', 'embB, gyrA, katG, rpoB, rpsL, rrs', 'inhA-Pro, katG, rpoB, rpsL', 'katG, rpoB, rpsL', 'katG, rpoB', 'embB, gyrA, katG, rpoB, rpsL', 'embB, inhA-Pro, katG, rpoB, rpsL', 'gyrA, inhA-Pro, katG, rpoB, rpsL', 'gyrA, inhA-Pro, katG, rpoB, rpsL', 'embB, katG, rpoB, rpsL', 'gyrA, inhA-Pro, katG, rpoB, rpsL', 'rpsL', 'rpsL', 'embB, katG, rpoB, rpsL, rrs', 'embB, katG, rpoB, rpsL', 'embB, gyrA, inhA-Pro, katG, pncA, rpoB, rpsL', 'gyrA, inhA-Pro, katG, rpoB, rpsL', 'gyrA, inhA-Pro, katG, rpoB, rpsL', 'inhA-Pro, katG, pncA, rpoB, rpsL', 'inhA-Pro, katG, rpoB, rpsL', 'inhA-Pro, katG, rpoB, rpsL', 'inhA-Pro, katG, rpoB, rpsL', 'inhA-Pro, katG, rpoB, rpsL', 'katG, rpoB, rpsL', 'embB, katG, rpoB, rpsL', 'gyrA, inhA-Pro, katG, pncA, rpoB, rpsL', 'inhA-Pro, katG, rpoB, rpsL', 'rrs', 'inhA-Pro, katG, rpoB', 'embB, katG, rpoB, rrs', 'embB, gyrA, katG, rpoB, rpsL, rrs', 'embB, inhA-Pro, katG', 'embB, inhA-Pro, katG, pncA, rpoB', 'embB, gyrA, rpsL', 'katG, rpoB, rpsL', 'embB, inhA-Pro, katG, rpoB, rpsL', 'katG, rpsL', 'inhA-Pro', 'embB, gyrA, inhA-Pro, katG, rpoB, rrs', 'embB, gyrA, katG, rpoB, rpsL', 'embB, katG, rpoB, rpsL', 'embB, katG, rpoB, rpsL', 'embB, inhA-Pro, katG, rpoB', 'embB, gyrA, katG, rpoB, rrs', 'embB, gyrA, katG, rpoB, rpsL, rrs', 'gyrA, katG, rpoB, rrs', 'embB, gyrA, katG, rpoB, rpsL, rrs', 'embB, gyrA, katG, rpoB', 'katG, rpoB, rpsL', 'embB, katG, rpoB, rpsL', 'katG, rpoB', 'embB, rpoB, rrs', 'embB, gyrA, inhA-Pro, katG, rpoB', 'embB, inhA-Pro, katG, rpoB, rpsL, rrs', 'embB, gyrA, katG, rpoB, rpsL, rrs', 'inhA-Pro, katG, rpoB, rpsL', 'katG, rpoB, rpsL, rrs', 'embB, katG, rpoB, rpsL', 'katG', 'embB, gyrA, katG, rpoB, rpsL', 'gyrA, katG, rpoB, rpsL', 'inhA-Pro', 'katG, rpoB', 'inhA, inhA-Pro, rpoB', 'embB, gyrA, inhA-Pro, katG, rpoB, rpsL, rrs', 'embB, inhA-Pro, katG, rpoB', 'katG, rpoB, rpsL', 'embB, katG, rpoB, rpsL', 'gyrA, katG, rpoB, rpsL', 'katG, rpoB', 'embB, gyrA, katG, rpoB, rpsL', 'embB, gyrA, katG, rpoB, rpsL', 'embB, katG, rpoB, rpsL, rrs', 'inhA-Pro, katG, rpoB, rpsL', 'inhA-Pro, katG, rpoB, rpsL', 'embB, inhA-Pro, katG, rpoB, rpsL', 'embB, katG, rpoB, rpsL', 'inhA-Pro, katG, rpoB, rpsL', 'inhA-Pro', 'inhA-Pro, katG, rpoB, rpsL', 'inhA-Pro, katG, rpoB, rpsL', 'embB, inhA-Pro, katG, rpoB, rpsL', 'inhA-Pro, katG, rpsL', 'embB, gyrA, katG, rpoB, rpsL', 'embB, katG, pncA, rpoB, rpsL', 'inhA-Pro, katG, rpoB, rpsL', 'embB, katG, rpoB, rpsL', 'katG, rpsL', 'inhA-Pro, katG, rpoB, rpsL', 'embB, katG, rpoB, rpsL', 'katG, rpoB', 'rpsL', 'embB, katG, rpoB, rpsL', 'embB, gyrA, katG, rpoB, rpsL', 'embB, gyrA, katG, pncA, rpoB, rpsL', 'inhA-Pro, katG, rpoB, rpsL', 'katG, rpoB', 'inhA-Pro, katG, rpoB, rpsL', 'inhA-Pro, katG, rpoB, rpsL', 'katG, rpoB, rpsL', 'inhA-Pro, katG, rpoB, rpsL', 'inhA-Pro, katG', 'embB, katG, rpoB, rpsL', 'inhA-Pro, katG, rpoB, rpsL', 'gyrA, katG', 'katG, rpsL', 'embB, katG, rpoB, rpsL', 'embB, gyrA, katG, rpoB, rpsL', 'inhA-Pro, katG, rpoB, rpsL', 'inhA-Pro, katG, rpoB, rpsL', 'embB, katG, rpoB, rpsL', 'inhA-Pro, katG, rpoB, rpsL', 'inhA-Pro, katG, rpoB, rpsL', 'inhA-Pro, katG, rpoB, rpsL', 'inhA-Pro, katG, rpoB, rpsL', 'embB, gyrA, inhA-Pro, katG, rpoB, rpsL, rrs', 'embB, katG, rpoB, rpsL', 'gyrA, inhA-Pro, katG, rpoB, rpsL', 'inhA-Pro, katG, rpoB, rpsL', 'inhA-Pro, katG, rpoB, rpsL', 'inhA-Pro, katG, rpoB, rpsL', 'embB, inhA-Pro, katG, rpoB, rpsL, rrs', 'rpoB', 'embB, gyrA, katG, rpoB', 'embB, gyrA, inhA-Pro, katG, rpoB, rrs', 'embB, gyrA, inhA-Pro, katG, rpoB, rpsL, rrs', 'embB, gyrA, katG, rpoB', 'embB, inhA-Pro, katG, rpoB', 'embB, katG, rpoB', 'gyrA, inhA-Pro, katG, rpoB, rpsL', 'gyrA, katG, rpoB, rpsL', 'embB, inhA-Pro, katG, rpoB, rpsL', 'embB, gyrA, katG, pncA, rpoB, rpsL', 'gyrA, inhA-Pro, katG, rpoB, rpsL', 'gyrA, inhA-Pro, katG, rpoB, rpsL', 'inhA-Pro, katG, rpoB, rpsL', 'katG, rpoB, rpsL', 'katG, rpoB, rpsL', 'embB, gyrA, katG, rpoB, rrs', 'katG, rpoB, rpsL', 'rpoB', 'embB, inhA-Pro, katG, rpoB', 'embB, katG, pncA, rpoB', 'embB, inhA-Pro, katG, rpoB, rpsL', 'katG, rpoB, rrs', 'embB, gyrA, katG, rpoB', 'gyrA, inhA-Pro, katG, rpoB, rpsL, rrs', 'gyrA, inhA-Pro, katG, rpoB, rpsL, rrs', 'embB, inhA-Pro, katG, rpoB, rpsL, rrs', 'embB, inhA-Pro, katG, pncA, rpoB, rpsL', 'embB, gyrA, inhA-Pro, katG, rpoB, rpsL, rrs', 'embB, gyrA, inhA-Pro, katG, rpoB, rpsL', 'embB, katG, pncA, rpoB, rpsL', 'embB, gyrA, inhA-Pro, katG, pncA, rpoB, rpsL, rrs', 'gyrA, katG, rpoB, rpsL, rrs', 'embB, rpoB, rpsL', 'rpoB', 'embB, gyrA, katG, rpoB, rrs', 'gyrA, inhA-Pro, katG, rpoB, rpsL, rrs', 'inhA-Pro, katG, rpoB, rpsL', 'katG, rpoB, rpsL', 'inhA-Pro, katG, rpoB, rpsL', 'embB, katG, pncA, rpoB, rpsL', 'embB, katG, rpoB, rpsL', 'gyrA, inhA-Pro, katG, rpoB, rpsL', 'embB, gyrA, inhA-Pro, katG, rpoB, rpsL', 'katG, rpoB, rpsL', 'embB, gyrA, katG, rpoB, rpsL, rrs', 'katG, rpoB', 'embB, katG, rpoB, rpsL', 'embB, gyrA, katG, rpsL', 'gyrA, katG, pncA, rpoB, rpsL', 'katG, rpoB, rpsL', 'embB, katG', 'embB, katG, rpoB, rpsL', 'embB, inhA-Pro, katG, pncA, rpoB', 'embB, gyrA, inhA-Pro, katG, rpoB, rpsL, rrs', 'embB, gyrA, inhA-Pro, katG, pncA, rpoB, rpsL', 'embB, katG, rpsL', 'rpsL', 'gyrA, katG, rpoB', 'katG, rpoB', 'embB, katG, rpoB, rpsL, rrs', 'katG, rpoB, rpsL', 'inhA-Pro', 'embB, katG, rpoB, rpsL, rrs', 'embB, gyrA, katG, rpoB, rpsL, rrs', 'katG, rpoB, rpsL', 'katG, rpoB', 'gyrA, rpoB, rpsL', 'embB, gyrA, katG, rpoB', 'embB, gyrA, katG, rpoB, rpsL, rrs', 'katG, rpsL', 'embB, katG, rpoB, rpsL', 'embB, gyrA, inhA-Pro, katG, rpoB, rpsL, rrs', 'embB, gyrA, inhA-Pro, katG, rpoB, rpsL, rrs', 'embB, gyrA, katG, rpoB, rpsL', 'embB, gyrA, inhA-Pro, katG, pncA, rpoB, rpsL, rrs', 'inhA-Pro, katG, rpoB, rpsL', 'embB, katG, rpoB, rpsL', 'gyrA, inhA-Pro, katG, pncA, rpoB, rpsL', 'katG, rpoB, rpsL', 'gyrA, katG, rpoB', 'gyrA, inhA-Pro, katG, rpoB, rpsL', 'katG', 'katG, rpoB, rpsL', 'katG, rpoB', 'embB, gyrA, inhA-Pro, katG, rpoB, rpsL, rrs', 'embB, katG, rpoB, rpsL', 'embB, gyrA, inhA-Pro, katG, rpoB, rpsL', 'inhA-Pro, katG, rpoB, rpsL', 'rpsL', 'embB, gyrA, katG, rpoB, rpsL, rrs', 'gyrA, inhA-Pro, katG, rpoB, rpsL', 'katG, rpoB, rpsL', 'rpoB', 'embB, gyrA, katG, rpoB', 'embB, gyrA, katG, rpoB, rpsL, rrs', 'gyrA, katG, rpoB', 'embB, katG, rpoB, rpsL, rrs', 'katG, rpsL', 'embB, katG, rpoB, rpsL', 'katG, rpsL', 'inhA-Pro, katG, rpoB, rpsL', 'embB, katG, rpoB, rpsL', 'embB, gyrA, katG, rpoB', 'embB, katG, rpoB, rpsL', 'embB, katG, rpoB, rpsL', 'gyrA, inhA-Pro, katG, rpoB, rpsL', 'embB, katG, rpoB', 'inhA-Pro, katG, rpoB, rpsL', 'embB, katG, pncA, rpoB, rpsL', 'gyrA, inhA-Pro, katG, rpoB, rpsL', 'katG, rpoB, rpsL', 'embB, inhA-Pro, katG, rpoB', 'embB, katG, pncA, rpoB, rpsL', 'embB, katG, rpoB', 'inhA-Pro, katG, rpoB, rpsL', 'katG, rpsL', 'inhA-Pro, katG, rpoB, rpsL', 'embB, inhA-Pro, katG, rpoB', 'rpoB', 'embB, gyrA, katG, rpoB, rrs', 'inhA-Pro, katG, rpoB, rpsL, rrs', 'embB, rpoB', 'embB, gyrA, inhA-Pro, katG, rpoB, rpsL, rrs']\n"
          ],
          "name": "stdout"
        }
      ]
    },
    {
      "cell_type": "code",
      "metadata": {
        "id": "10vI91UuZjZm"
      },
      "source": [
        "from sklearn.feature_extraction.text import TfidfVectorizer\n",
        "cv = TfidfVectorizer()\n",
        "x = cv.fit_transform(corpus).toarray()"
      ],
      "execution_count": null,
      "outputs": []
    },
    {
      "cell_type": "code",
      "metadata": {
        "id": "r_xj6-lEZjZm",
        "outputId": "2f88cd95-00cf-43e4-f959-2f415b03304f"
      },
      "source": [
        "print(x)"
      ],
      "execution_count": null,
      "outputs": [
        {
          "output_type": "stream",
          "text": [
            "[[0.34283018 0.         0.39968592 ... 0.23568374 0.         0.        ]\n",
            " [0.         0.         0.         ... 0.53843647 0.6501482  0.        ]\n",
            " [0.7177533  0.         0.         ... 0.49343025 0.         0.        ]\n",
            " ...\n",
            " [0.         0.         0.44422133 ... 0.26194504 0.31629191 0.60627292]\n",
            " [0.8240554  0.         0.         ... 0.56650922 0.         0.        ]\n",
            " [0.32689226 0.39638458 0.38110481 ... 0.22472697 0.27135204 0.52013154]]\n"
          ],
          "name": "stdout"
        }
      ]
    },
    {
      "cell_type": "code",
      "metadata": {
        "id": "39hydPjVZjZm",
        "outputId": "d2078eca-9256-46b9-beec-4f4f1bac9376"
      },
      "source": [
        "print(len(x[1]))"
      ],
      "execution_count": null,
      "outputs": [
        {
          "output_type": "stream",
          "text": [
            "9\n"
          ],
          "name": "stdout"
        }
      ]
    },
    {
      "cell_type": "code",
      "metadata": {
        "id": "6g6hO3ulZjZm"
      },
      "source": [
        "y = df[\"Streptomycin\"]"
      ],
      "execution_count": null,
      "outputs": []
    },
    {
      "cell_type": "code",
      "metadata": {
        "id": "f1UqEhVRZjZm",
        "outputId": "d139bfba-d1c1-4614-eaea-8817ad74c9f9"
      },
      "source": [
        "print(y)"
      ],
      "execution_count": null,
      "outputs": [
        {
          "output_type": "stream",
          "text": [
            "0      1\n",
            "1      1\n",
            "2      1\n",
            "3      1\n",
            "4      1\n",
            "      ..\n",
            "454    0\n",
            "455    0\n",
            "456    0\n",
            "457    0\n",
            "458    0\n",
            "Name: Streptomycin, Length: 459, dtype: int64\n"
          ],
          "name": "stdout"
        }
      ]
    },
    {
      "cell_type": "code",
      "metadata": {
        "id": "tPPpDWplZjZm"
      },
      "source": [
        "from sklearn.model_selection import train_test_split\n",
        "X_train, X_test, y_train, y_test = train_test_split(x, y,test_size=0.3,random_state=100) \n"
      ],
      "execution_count": null,
      "outputs": []
    },
    {
      "cell_type": "code",
      "metadata": {
        "id": "mXMKPLSeZjZm"
      },
      "source": [
        "from sklearn import svm\n",
        "clf = svm.SVC(kernel='linear') # Linear Kernel\n",
        "clf.fit(X_train, y_train)\n",
        "\n",
        "y_pred = clf.predict(X_test)"
      ],
      "execution_count": null,
      "outputs": []
    },
    {
      "cell_type": "code",
      "metadata": {
        "id": "A9DdYUzUZjZm",
        "outputId": "becee065-f59f-444e-ec5e-ec9e54ec6a6c"
      },
      "source": [
        "from sklearn import metrics\n",
        "print(\"Accuracy:\",metrics.accuracy_score(y_test, y_pred))"
      ],
      "execution_count": null,
      "outputs": [
        {
          "output_type": "stream",
          "text": [
            "Accuracy: 0.7753623188405797\n"
          ],
          "name": "stdout"
        }
      ]
    },
    {
      "cell_type": "code",
      "metadata": {
        "id": "p_afxlH3ZjZm"
      },
      "source": [
        ""
      ],
      "execution_count": null,
      "outputs": []
    },
    {
      "cell_type": "code",
      "metadata": {
        "id": "_m-dxCU-ZjZm",
        "outputId": "fa917bc2-d767-4d6a-8559-916df30469e1"
      },
      "source": [
        "from sklearn.naive_bayes import MultinomialNB\n",
        "spam_detect_model = MultinomialNB().fit(X_train, y_train)\n",
        "\n",
        "y_pred=spam_detect_model.predict(X_test)\n",
        "\n",
        "from sklearn import metrics\n",
        "\n",
        "print(\"Accuracy:\",metrics.accuracy_score(y_test, y_pred))"
      ],
      "execution_count": null,
      "outputs": [
        {
          "output_type": "stream",
          "text": [
            "Accuracy: 0.7753623188405797\n"
          ],
          "name": "stdout"
        }
      ]
    },
    {
      "cell_type": "code",
      "metadata": {
        "id": "sfZzu9y9ZjZm"
      },
      "source": [
        ""
      ],
      "execution_count": null,
      "outputs": []
    }
  ]
}